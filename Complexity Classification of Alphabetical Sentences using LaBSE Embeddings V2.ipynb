{
 "cells": [
  {
   "cell_type": "code",
   "execution_count": 1,
   "id": "f4895f13",
   "metadata": {},
   "outputs": [
    {
     "name": "stderr",
     "output_type": "stream",
     "text": [
      "2023-02-17 10:36:43.017959: I tensorflow/core/platform/cpu_feature_guard.cc:193] This TensorFlow binary is optimized with oneAPI Deep Neural Network Library (oneDNN) to use the following CPU instructions in performance-critical operations:  AVX2 FMA\n",
      "To enable them in other operations, rebuild TensorFlow with the appropriate compiler flags.\n",
      "2023-02-17 10:36:58.020463: W tensorflow/compiler/xla/stream_executor/platform/default/dso_loader.cc:64] Could not load dynamic library 'libnvinfer.so.7'; dlerror: libnvinfer.so.7: cannot open shared object file: No such file or directory; LD_LIBRARY_PATH: /apps/spack/bell/apps/gcc/9.3.0-gcc-4.8.5-z2ug7z7/lib64:/apps/spack/bell/apps/gcc/9.3.0-gcc-4.8.5-z2ug7z7/lib:/apps/spack/bell/apps/zlib/1.2.11-gcc-9.3.0-7x3gabj/lib:/apps/spack/bell/apps/mpc/1.1.0-gcc-4.8.5-wwn2jff/lib:/apps/spack/bell/apps/mpfr/3.1.6-gcc-4.8.5-xyisskj/lib:/apps/spack/bell/apps/gmp/6.1.2-gcc-4.8.5-6bsovvk/lib:/apps/spack/bell/apps/anaconda/2020.02-py37-gcc-4.8.5-u747gsx/lib\n",
      "2023-02-17 10:36:58.023838: W tensorflow/compiler/xla/stream_executor/platform/default/dso_loader.cc:64] Could not load dynamic library 'libnvinfer_plugin.so.7'; dlerror: libnvinfer_plugin.so.7: cannot open shared object file: No such file or directory; LD_LIBRARY_PATH: /apps/spack/bell/apps/gcc/9.3.0-gcc-4.8.5-z2ug7z7/lib64:/apps/spack/bell/apps/gcc/9.3.0-gcc-4.8.5-z2ug7z7/lib:/apps/spack/bell/apps/zlib/1.2.11-gcc-9.3.0-7x3gabj/lib:/apps/spack/bell/apps/mpc/1.1.0-gcc-4.8.5-wwn2jff/lib:/apps/spack/bell/apps/mpfr/3.1.6-gcc-4.8.5-xyisskj/lib:/apps/spack/bell/apps/gmp/6.1.2-gcc-4.8.5-6bsovvk/lib:/apps/spack/bell/apps/anaconda/2020.02-py37-gcc-4.8.5-u747gsx/lib\n",
      "2023-02-17 10:36:58.023847: W tensorflow/compiler/tf2tensorrt/utils/py_utils.cc:38] TF-TRT Warning: Cannot dlopen some TensorRT libraries. If you would like to use Nvidia GPU with TensorRT, please make sure the missing libraries mentioned above are installed properly.\n"
     ]
    }
   ],
   "source": [
    "#Package import\n",
    "\n",
    "from sentence_transformers import SentenceTransformer\n",
    "import pandas as pd\n",
    "import tensorflow as tf\n",
    "from tensorflow import keras\n",
    "from tensorflow.keras import layers\n",
    "import numpy as np\n",
    "from sklearn.model_selection import train_test_split\n",
    "from sklearn.metrics import classification_report\n",
    "from sklearn import metrics\n",
    "import matplotlib.pyplot as plt\n",
    "from tensorflow_addons.optimizers import AdamW"
   ]
  },
  {
   "cell_type": "code",
   "execution_count": 2,
   "id": "95074e01",
   "metadata": {},
   "outputs": [
    {
     "name": "stdout",
     "output_type": "stream",
     "text": [
      "                                                text complexity\n",
      "0  Karabo Ngidi, a lawyer with the centre, said: ...     simple\n",
      "1  The age of the big British summer music festiv...     simple\n",
      "2  The town is here because of the mine, says Dep...     simple\n",
      "3  We want to find a few photos to put with the b...     simple\n",
      "4    Inzozi Nziza was opened by Odile Gakire Katese.     simple\n",
      "                                                    text   complexity\n",
      "14975  Si kwamba twatosha sisi wenyewe kufikiri neno ...  complicated\n",
      "14976  Mnataka vipi? Nije kwenu na fimbo, au nije kat...  complicated\n",
      "14977  Maana, ndugu, mnakumbuka taabu yetu na masumbu...  complicated\n",
      "14978  Na usifiwe utukufu wa neema yake, ambayo ametu...  complicated\n",
      "14979  Kwa sababu Bwana mwenyewe atashuka kutoka mbin...  complicated\n"
     ]
    }
   ],
   "source": [
    "#importing Labse model from hugging face\n",
    "\n",
    "labse = SentenceTransformer('sentence-transformers/LaBSE')\n",
    "\n",
    "data=pd.read_csv('data_2.csv')\n",
    "\n",
    "print(data.head(5))\n",
    "print(data.tail(5))"
   ]
  },
  {
   "cell_type": "code",
   "execution_count": 3,
   "id": "aa0d8241",
   "metadata": {},
   "outputs": [
    {
     "name": "stdout",
     "output_type": "stream",
     "text": [
      "                                                text complexity\n",
      "0  Karabo Ngidi, a lawyer with the centre, said: ...          0\n",
      "1  The age of the big British summer music festiv...          0\n",
      "2  The town is here because of the mine, says Dep...          0\n",
      "3  We want to find a few photos to put with the b...          0\n",
      "4    Inzozi Nziza was opened by Odile Gakire Katese.          0\n",
      "                                                    text complexity\n",
      "14975  Si kwamba twatosha sisi wenyewe kufikiri neno ...          1\n",
      "14976  Mnataka vipi? Nije kwenu na fimbo, au nije kat...          1\n",
      "14977  Maana, ndugu, mnakumbuka taabu yetu na masumbu...          1\n",
      "14978  Na usifiwe utukufu wa neema yake, ambayo ametu...          1\n",
      "14979  Kwa sababu Bwana mwenyewe atashuka kutoka mbin...          1\n"
     ]
    }
   ],
   "source": [
    "#binary encoding for target field\n",
    "data.loc[data['complexity']=='simple','complexity']=0\n",
    "data.loc[data['complexity']=='complicated','complexity']=1\n",
    "\n",
    "print(data.head(5))\n",
    "print(data.tail(5))"
   ]
  },
  {
   "cell_type": "code",
   "execution_count": 4,
   "id": "38f91312",
   "metadata": {},
   "outputs": [],
   "source": [
    "#Test and traning split\n",
    "def test_train(dataset,val):\n",
    "\n",
    "    label_all=np.array(dataset.complexity.values,dtype=np.float16)\n",
    "    \n",
    "    df_idx, test_idx = train_test_split(\n",
    "        np.arange(len(label_all)),\n",
    "        test_size = val,\n",
    "        shuffle = True,\n",
    "        stratify = label_all)\n",
    "    \n",
    "    \n",
    "    d1=dataset.loc[dataset.index.isin(df_idx)]\n",
    "    d2=dataset.loc[dataset.index.isin(test_idx)]\n",
    "    \n",
    "    d1.reset_index(drop=True,inplace=True)\n",
    "    d2.reset_index(drop=True,inplace=True)\n",
    "    \n",
    "    return d1,d2"
   ]
  },
  {
   "cell_type": "code",
   "execution_count": 5,
   "id": "c993df30",
   "metadata": {},
   "outputs": [
    {
     "name": "stdout",
     "output_type": "stream",
     "text": [
      "Training data: (14978, 2)\n",
      "Testing data: (2, 2)\n"
     ]
    }
   ],
   "source": [
    "#use second parameter to specify split ratio (corrresponds to proportion of test data)\n",
    "\n",
    "df,df_test=test_train(data,0.0001)\n",
    "\n",
    "print(\"Training data:\",df.shape)\n",
    "print(\"Testing data:\",df_test.shape)"
   ]
  },
  {
   "cell_type": "code",
   "execution_count": 6,
   "id": "63b0910b",
   "metadata": {},
   "outputs": [],
   "source": [
    "#test and validation split along with encoding\n",
    "\n",
    "def train_val(dataset,val):\n",
    "\n",
    "    labels=np.array(dataset.complexity.values,dtype=np.float16)\n",
    "    \n",
    "    if val != 0:\n",
    "        train_idx, val_idx = train_test_split(\n",
    "            np.arange(len(labels)),\n",
    "            test_size = val,\n",
    "            shuffle = True,\n",
    "            stratify = labels)\n",
    "    else:\n",
    "        train_idx=np.array([*range(len(dataset))])\n",
    "        val_idx=[]\n",
    "    \n",
    "    texts=dataset.text.values\n",
    "\n",
    "    t1=texts[train_idx]\n",
    "    t2=labels[train_idx]\n",
    "    \n",
    "    t3=texts[val_idx]\n",
    "    t4=labels[val_idx]\n",
    "    \n",
    "    t1=np.array([labse.encode(i) for i in t1])\n",
    "    \n",
    "    if val != 0:\n",
    "        t3=np.array([labse.encode(i) for i in t3])\n",
    "    \n",
    "    return t1, t2, t3, t4"
   ]
  },
  {
   "cell_type": "code",
   "execution_count": 8,
   "id": "dffd22f8",
   "metadata": {},
   "outputs": [],
   "source": [
    "#use second parameter to specify split ratio (corrresponds to proportion of validation data).\n",
    "\n",
    "train_x,train_y,val_x,val_y=train_val(df,0.1)"
   ]
  },
  {
   "cell_type": "code",
   "execution_count": 9,
   "id": "f63e6129",
   "metadata": {},
   "outputs": [
    {
     "name": "stdout",
     "output_type": "stream",
     "text": [
      "training data: (13480, 768)\n"
     ]
    },
    {
     "data": {
      "text/plain": [
       "array([[-0.04574548, -0.01605996, -0.0803916 , ..., -0.00806262,\n",
       "         0.03687363, -0.02361694],\n",
       "       [ 0.01132295, -0.02773057, -0.01190652, ..., -0.05851452,\n",
       "         0.01272868, -0.0266791 ],\n",
       "       [ 0.02192913,  0.0288132 ,  0.02316691, ..., -0.01965865,\n",
       "        -0.05077596,  0.06755242]], dtype=float32)"
      ]
     },
     "execution_count": 9,
     "metadata": {},
     "output_type": "execute_result"
    }
   ],
   "source": [
    "#viewing training data\n",
    "\n",
    "print(\"training data:\",train_x.shape)\n",
    "train_x[0:3]"
   ]
  },
  {
   "cell_type": "code",
   "execution_count": 10,
   "id": "00ca9fa8",
   "metadata": {},
   "outputs": [
    {
     "name": "stdout",
     "output_type": "stream",
     "text": [
      "training labels: (13480,)\n"
     ]
    },
    {
     "data": {
      "text/plain": [
       "array([1., 0., 1.], dtype=float16)"
      ]
     },
     "execution_count": 10,
     "metadata": {},
     "output_type": "execute_result"
    }
   ],
   "source": [
    "#viewing training labels\n",
    "\n",
    "print(\"training labels:\",train_y.shape)\n",
    "train_y[0:3]"
   ]
  },
  {
   "cell_type": "code",
   "execution_count": 11,
   "id": "7b960857",
   "metadata": {},
   "outputs": [
    {
     "name": "stdout",
     "output_type": "stream",
     "text": [
      "validation data: (1498, 768)\n"
     ]
    },
    {
     "data": {
      "text/plain": [
       "array([[-0.05001695, -0.00957072, -0.04676677, ...,  0.01846896,\n",
       "         0.0058149 ,  0.01822535],\n",
       "       [ 0.00958925, -0.08302104, -0.06851174, ...,  0.00134011,\n",
       "         0.02782863,  0.01136474],\n",
       "       [-0.02794001, -0.01198375, -0.02823161, ..., -0.02705377,\n",
       "         0.00120737, -0.00249543]], dtype=float32)"
      ]
     },
     "execution_count": 11,
     "metadata": {},
     "output_type": "execute_result"
    }
   ],
   "source": [
    "#viewing validation data\n",
    "\n",
    "print(\"validation data:\",val_x.shape)\n",
    "val_x[0:3]"
   ]
  },
  {
   "cell_type": "code",
   "execution_count": 12,
   "id": "a5b79c1d",
   "metadata": {},
   "outputs": [
    {
     "name": "stdout",
     "output_type": "stream",
     "text": [
      "validation labels: (1498,)\n"
     ]
    },
    {
     "data": {
      "text/plain": [
       "array([0., 1., 0.], dtype=float16)"
      ]
     },
     "execution_count": 12,
     "metadata": {},
     "output_type": "execute_result"
    }
   ],
   "source": [
    "#viewing validation labels\n",
    "\n",
    "print(\"validation labels:\",val_y.shape)\n",
    "val_y[0:3]"
   ]
  },
  {
   "cell_type": "code",
   "execution_count": 13,
   "id": "02aae092",
   "metadata": {
    "scrolled": true
   },
   "outputs": [
    {
     "name": "stdout",
     "output_type": "stream",
     "text": [
      "Model: \"sequential\"\n",
      "_________________________________________________________________\n",
      " Layer (type)                Output Shape              Param #   \n",
      "=================================================================\n",
      " dense (Dense)               (None, 128)               98432     \n",
      "                                                                 \n",
      " dropout (Dropout)           (None, 128)               0         \n",
      "                                                                 \n",
      " dense_1 (Dense)             (None, 64)                8256      \n",
      "                                                                 \n",
      " dropout_1 (Dropout)         (None, 64)                0         \n",
      "                                                                 \n",
      " dense_2 (Dense)             (None, 32)                2080      \n",
      "                                                                 \n",
      " dense_3 (Dense)             (None, 1)                 33        \n",
      "                                                                 \n",
      "=================================================================\n",
      "Total params: 108,801\n",
      "Trainable params: 108,801\n",
      "Non-trainable params: 0\n",
      "_________________________________________________________________\n"
     ]
    },
    {
     "name": "stderr",
     "output_type": "stream",
     "text": [
      "2023-02-17 11:32:18.538048: W tensorflow/compiler/xla/stream_executor/platform/default/dso_loader.cc:64] Could not load dynamic library 'libcuda.so.1'; dlerror: libcuda.so.1: cannot open shared object file: No such file or directory; LD_LIBRARY_PATH: /apps/spack/bell/apps/gcc/9.3.0-gcc-4.8.5-z2ug7z7/lib64:/apps/spack/bell/apps/gcc/9.3.0-gcc-4.8.5-z2ug7z7/lib:/apps/spack/bell/apps/zlib/1.2.11-gcc-9.3.0-7x3gabj/lib:/apps/spack/bell/apps/mpc/1.1.0-gcc-4.8.5-wwn2jff/lib:/apps/spack/bell/apps/mpfr/3.1.6-gcc-4.8.5-xyisskj/lib:/apps/spack/bell/apps/gmp/6.1.2-gcc-4.8.5-6bsovvk/lib:/apps/spack/bell/apps/anaconda/2020.02-py37-gcc-4.8.5-u747gsx/lib\n",
      "2023-02-17 11:32:18.538079: W tensorflow/compiler/xla/stream_executor/cuda/cuda_driver.cc:265] failed call to cuInit: UNKNOWN ERROR (303)\n",
      "2023-02-17 11:32:18.538101: I tensorflow/compiler/xla/stream_executor/cuda/cuda_diagnostics.cc:156] kernel driver does not appear to be running on this host (bell-a150.rcac.purdue.edu): /proc/driver/nvidia/version does not exist\n",
      "2023-02-17 11:32:18.538363: I tensorflow/core/platform/cpu_feature_guard.cc:193] This TensorFlow binary is optimized with oneAPI Deep Neural Network Library (oneDNN) to use the following CPU instructions in performance-critical operations:  AVX2 FMA\n",
      "To enable them in other operations, rebuild TensorFlow with the appropriate compiler flags.\n"
     ]
    },
    {
     "name": "stdout",
     "output_type": "stream",
     "text": [
      "None\n",
      "Epoch 1/10\n",
      "843/843 [==============================] - 2s 2ms/step - loss: 0.5880 - accuracy: 0.7094 - val_loss: 0.4991 - val_accuracy: 0.7483\n",
      "Epoch 2/10\n",
      "843/843 [==============================] - 1s 1ms/step - loss: 0.4845 - accuracy: 0.7624 - val_loss: 0.4717 - val_accuracy: 0.7710\n",
      "Epoch 3/10\n",
      "843/843 [==============================] - 1s 1ms/step - loss: 0.4602 - accuracy: 0.7769 - val_loss: 0.4615 - val_accuracy: 0.7770\n",
      "Epoch 4/10\n",
      "843/843 [==============================] - 1s 1ms/step - loss: 0.4387 - accuracy: 0.7882 - val_loss: 0.4510 - val_accuracy: 0.7891\n",
      "Epoch 5/10\n",
      "843/843 [==============================] - 1s 1ms/step - loss: 0.4216 - accuracy: 0.7986 - val_loss: 0.4352 - val_accuracy: 0.7964\n",
      "Epoch 6/10\n",
      "843/843 [==============================] - 1s 1ms/step - loss: 0.4051 - accuracy: 0.8063 - val_loss: 0.4311 - val_accuracy: 0.7957\n",
      "Epoch 7/10\n",
      "843/843 [==============================] - 1s 1ms/step - loss: 0.3898 - accuracy: 0.8189 - val_loss: 0.4220 - val_accuracy: 0.8044\n",
      "Epoch 8/10\n",
      "843/843 [==============================] - 1s 1ms/step - loss: 0.3772 - accuracy: 0.8247 - val_loss: 0.4213 - val_accuracy: 0.8077\n",
      "Epoch 9/10\n",
      "843/843 [==============================] - 1s 1ms/step - loss: 0.3642 - accuracy: 0.8325 - val_loss: 0.4128 - val_accuracy: 0.8131\n",
      "Epoch 10/10\n",
      "843/843 [==============================] - 1s 1ms/step - loss: 0.3535 - accuracy: 0.8399 - val_loss: 0.4125 - val_accuracy: 0.8117\n"
     ]
    }
   ],
   "source": [
    "#model declaration\n",
    "\n",
    "model = keras.Sequential()\n",
    "model.add(layers.Dense(128, activation='relu', input_shape=(768,)))\n",
    "model.add(layers.Dropout(0.2))\n",
    "model.add(layers.Dense(64, activation='relu'))\n",
    "model.add(layers.Dropout(0.2))\n",
    "model.add(layers.Dense(32, activation='relu')) \n",
    "model.add(layers.Dense(1, activation='sigmoid'))\n",
    "\n",
    "print(model.summary())\n",
    "\n",
    "#optimizer\n",
    "\n",
    "\n",
    "optimizer=keras.optimizers.Adam(learning_rate=0.0001)\n",
    "\n",
    "#compile model\n",
    "model.compile(optimizer=optimizer,loss=tf.losses.BinaryCrossentropy(),metrics=['accuracy'])\n",
    "\n",
    "#model training\n",
    "history = model.fit(train_x,train_y,validation_data=(val_x,val_y),epochs=10, batch_size=16)"
   ]
  },
  {
   "cell_type": "code",
   "execution_count": 14,
   "id": "17973ec9",
   "metadata": {},
   "outputs": [
    {
     "data": {
      "image/png": "[encoded data removed]",
      "text/plain": [
       "<Figure size 432x288 with 1 Axes>"
      ]
     },
     "metadata": {
      "needs_background": "light"
     },
     "output_type": "display_data"
    }
   ],
   "source": [
    "# training and validation accuracy plots by epoch\n",
    "\n",
    "plt.plot(history.history['accuracy'])\n",
    "plt.plot(history.history['val_accuracy'])\n",
    "plt.plot(history.history['val_loss'])\n",
    "plt.title('Model accuracy')\n",
    "plt.ylabel('Accuracy')\n",
    "plt.xlabel('Epoch')\n",
    "plt.legend(['Train Accuracy', 'Validation Accuracy','Validation Loss'], loc='upper left')\n",
    "plt.show()"
   ]
  },
  {
   "cell_type": "code",
   "execution_count": 15,
   "id": "d902fdb9",
   "metadata": {},
   "outputs": [
    {
     "data": {
      "text/html": [
       "<div>\n",
       "<style scoped>\n",
       "    .dataframe tbody tr th:only-of-type {\n",
       "        vertical-align: middle;\n",
       "    }\n",
       "\n",
       "    .dataframe tbody tr th {\n",
       "        vertical-align: top;\n",
       "    }\n",
       "\n",
       "    .dataframe thead th {\n",
       "        text-align: right;\n",
       "    }\n",
       "</style>\n",
       "<table border=\"1\" class=\"dataframe\">\n",
       "  <thead>\n",
       "    <tr style=\"text-align: right;\">\n",
       "      <th></th>\n",
       "      <th>text</th>\n",
       "      <th>complexity</th>\n",
       "    </tr>\n",
       "  </thead>\n",
       "  <tbody>\n",
       "    <tr>\n",
       "      <th>0</th>\n",
       "      <td>જો આપણે આત્માથી જીવીએ છીએ તો આત્માથી ચાલવું પણ...</td>\n",
       "      <td>1</td>\n",
       "    </tr>\n",
       "    <tr>\n",
       "      <th>1</th>\n",
       "      <td>ખ્રિસ્ત ઈસુ આપણા પ્રભુમાં તમારે વિષે મારું જે ...</td>\n",
       "      <td>1</td>\n",
       "    </tr>\n",
       "    <tr>\n",
       "      <th>2</th>\n",
       "      <td>સ્‍ત્રીઓએ મંડળીઓમાં છાના રહેવું, કેમ કે તેઓને ...</td>\n",
       "      <td>1</td>\n",
       "    </tr>\n",
       "    <tr>\n",
       "      <th>3</th>\n",
       "      <td>કેમ કે હું માણસની પાસેથી તે પામ્યો નથી કે શીખ્...</td>\n",
       "      <td>1</td>\n",
       "    </tr>\n",
       "    <tr>\n",
       "      <th>4</th>\n",
       "      <td>પણ જેઓ લાગ શોધે છે તેઓને લાગ ન મળે તે માટે હું...</td>\n",
       "      <td>1</td>\n",
       "    </tr>\n",
       "    <tr>\n",
       "      <th>...</th>\n",
       "      <td>...</td>\n",
       "      <td>...</td>\n",
       "    </tr>\n",
       "    <tr>\n",
       "      <th>5357</th>\n",
       "      <td>சுருள் முடி கொண்ட ஆண் சமோசா சாப்பிடுகிறான். ...</td>\n",
       "      <td>0</td>\n",
       "    </tr>\n",
       "    <tr>\n",
       "      <th>5358</th>\n",
       "      <td>ஒரு ஆணும் குழந்தையும் மரத்தடியில் பாயில் கிடக்...</td>\n",
       "      <td>0</td>\n",
       "    </tr>\n",
       "    <tr>\n",
       "      <th>5359</th>\n",
       "      <td>பட விளக்கம்: ஒன்றன்பின் ஒன்றாக இரண்டு யானைகள் ...</td>\n",
       "      <td>0</td>\n",
       "    </tr>\n",
       "    <tr>\n",
       "      <th>5360</th>\n",
       "      <td>ராதா மண்ணில் கால் தடையங்களைக் கண்டு பயந்தாள். ...</td>\n",
       "      <td>0</td>\n",
       "    </tr>\n",
       "    <tr>\n",
       "      <th>5361</th>\n",
       "      <td>பிரச்சினையை விளக்கிய பூனைகள்,\"நீயே நடுவராக இரு...</td>\n",
       "      <td>0</td>\n",
       "    </tr>\n",
       "  </tbody>\n",
       "</table>\n",
       "<p>5362 rows × 2 columns</p>\n",
       "</div>"
      ],
      "text/plain": [
       "                                                   text  complexity\n",
       "0     જો આપણે આત્માથી જીવીએ છીએ તો આત્માથી ચાલવું પણ...           1\n",
       "1     ખ્રિસ્ત ઈસુ આપણા પ્રભુમાં તમારે વિષે મારું જે ...           1\n",
       "2     સ્‍ત્રીઓએ મંડળીઓમાં છાના રહેવું, કેમ કે તેઓને ...           1\n",
       "3     કેમ કે હું માણસની પાસેથી તે પામ્યો નથી કે શીખ્...           1\n",
       "4     પણ જેઓ લાગ શોધે છે તેઓને લાગ ન મળે તે માટે હું...           1\n",
       "...                                                 ...         ...\n",
       "5357  சுருள் முடி கொண்ட ஆண் சமோசா சாப்பிடுகிறான். ...           0\n",
       "5358  ஒரு ஆணும் குழந்தையும் மரத்தடியில் பாயில் கிடக்...           0\n",
       "5359  பட விளக்கம்: ஒன்றன்பின் ஒன்றாக இரண்டு யானைகள் ...           0\n",
       "5360  ராதா மண்ணில் கால் தடையங்களைக் கண்டு பயந்தாள். ...           0\n",
       "5361  பிரச்சினையை விளக்கிய பூனைகள்,\"நீயே நடுவராக இரு...           0\n",
       "\n",
       "[5362 rows x 2 columns]"
      ]
     },
     "execution_count": 15,
     "metadata": {},
     "output_type": "execute_result"
    }
   ],
   "source": [
    "df_test=pd.read_csv('data_4.csv')\n",
    "df_test"
   ]
  },
  {
   "cell_type": "code",
   "execution_count": 16,
   "id": "dc8233c6",
   "metadata": {},
   "outputs": [
    {
     "name": "stdout",
     "output_type": "stream",
     "text": [
      "168/168 [==============================] - 0s 593us/step\n",
      "Predictions on Test data:\n"
     ]
    },
    {
     "data": {
      "text/plain": [
       "array([[0.46791923],\n",
       "       [0.8825554 ],\n",
       "       [0.5429306 ]], dtype=float32)"
      ]
     },
     "execution_count": 16,
     "metadata": {},
     "output_type": "execute_result"
    }
   ],
   "source": [
    "#test data processing\n",
    "\n",
    "test_x,test_y,_,_=train_val(df_test,0)\n",
    "\n",
    "#prediction using test_data\n",
    "\n",
    "test_pred = model.predict(test_x)\n",
    "\n",
    "print(\"Predictions on Test data:\")\n",
    "test_pred[0:3]"
   ]
  },
  {
   "cell_type": "code",
   "execution_count": 17,
   "id": "f29434d5",
   "metadata": {},
   "outputs": [
    {
     "data": {
      "image/png": "[encoded data removed]",
      "text/plain": [
       "<Figure size 432x288 with 1 Axes>"
      ]
     },
     "metadata": {
      "needs_background": "light"
     },
     "output_type": "display_data"
    }
   ],
   "source": [
    "#create ROC curve\n",
    "fpr, tpr, thresholds = metrics.roc_curve(test_y, test_pred)\n",
    "auc = metrics.roc_auc_score(test_y, test_pred)\n",
    "\n",
    "plt.plot(fpr,tpr,label=\"AUC=\"+str(auc))\n",
    "plt.ylabel('True Positive Rate')\n",
    "plt.xlabel('False Positive Rate')\n",
    "plt.title(\"ROC curve\")\n",
    "plt.legend(loc=4)\n",
    "plt.show()"
   ]
  },
  {
   "cell_type": "code",
   "execution_count": 18,
   "id": "67dca6fa",
   "metadata": {},
   "outputs": [
    {
     "name": "stdout",
     "output_type": "stream",
     "text": [
      "Optimal threshold: 0.6\n"
     ]
    }
   ],
   "source": [
    "# calculate optimal threshold from ROC statistics and get classification report\n",
    "optimal_idx = np.argmax(tpr - fpr)\n",
    "optimal_threshold = thresholds[optimal_idx]\n",
    "\n",
    "print(\"Optimal threshold:\",round(optimal_threshold,1))"
   ]
  },
  {
   "cell_type": "code",
   "execution_count": 19,
   "id": "a039f7fe",
   "metadata": {},
   "outputs": [
    {
     "name": "stdout",
     "output_type": "stream",
     "text": [
      "168/168 [==============================] - 0s 582us/step\n",
      "Classification Report\n",
      "              precision    recall  f1-score   support\n",
      "\n",
      "         0.0       0.76      0.74      0.75      2681\n",
      "         1.0       0.75      0.77      0.76      2681\n",
      "\n",
      "    accuracy                           0.75      5362\n",
      "   macro avg       0.75      0.75      0.75      5362\n",
      "weighted avg       0.75      0.75      0.75      5362\n",
      "\n"
     ]
    }
   ],
   "source": [
    "threshold_pred = (model.predict(test_x) > 0.6).astype(int)\n",
    "\n",
    "print(\"Classification Report\")\n",
    "print(classification_report(test_y, threshold_pred))"
   ]
  },
  {
   "cell_type": "markdown",
   "id": "2faab865",
   "metadata": {},
   "source": [
    "## Bengali Text"
   ]
  },
  {
   "cell_type": "code",
   "execution_count": 20,
   "id": "9f3a9082",
   "metadata": {},
   "outputs": [
    {
     "data": {
      "text/html": [
       "<div>\n",
       "<style scoped>\n",
       "    .dataframe tbody tr th:only-of-type {\n",
       "        vertical-align: middle;\n",
       "    }\n",
       "\n",
       "    .dataframe tbody tr th {\n",
       "        vertical-align: top;\n",
       "    }\n",
       "\n",
       "    .dataframe thead th {\n",
       "        text-align: right;\n",
       "    }\n",
       "</style>\n",
       "<table border=\"1\" class=\"dataframe\">\n",
       "  <thead>\n",
       "    <tr style=\"text-align: right;\">\n",
       "      <th></th>\n",
       "      <th>text</th>\n",
       "      <th>complexity</th>\n",
       "    </tr>\n",
       "  </thead>\n",
       "  <tbody>\n",
       "    <tr>\n",
       "      <th>0</th>\n",
       "      <td>সতত আনন্দ কর; অবিরত প্রার্থনা কর;</td>\n",
       "      <td>1</td>\n",
       "    </tr>\n",
       "    <tr>\n",
       "      <th>1</th>\n",
       "      <td>অতএব “তোমরা তাহাদের মধ্য হইতে বাহির হইয়া আইস,...</td>\n",
       "      <td>1</td>\n",
       "    </tr>\n",
       "    <tr>\n",
       "      <th>2</th>\n",
       "      <td>যেন এক্ষণে যথাকালে আপন ধার্ম্মিকতা দেখান, যেন ...</td>\n",
       "      <td>1</td>\n",
       "    </tr>\n",
       "    <tr>\n",
       "      <th>3</th>\n",
       "      <td>কেননা তিনি এই সাক্ষ্য প্রাপ্ত হইতেছেন, “তুমিই ...</td>\n",
       "      <td>1</td>\n",
       "    </tr>\n",
       "    <tr>\n",
       "      <th>4</th>\n",
       "      <td>কারণ তিনি মোশিকে বলেন, “আমি যাহাকে দয়া করি, ত...</td>\n",
       "      <td>1</td>\n",
       "    </tr>\n",
       "    <tr>\n",
       "      <th>...</th>\n",
       "      <td>...</td>\n",
       "      <td>...</td>\n",
       "    </tr>\n",
       "    <tr>\n",
       "      <th>995</th>\n",
       "      <td>তিনদিন হয়ে গেল সাঁকো মেরামত হল না । শোভনরা ...</td>\n",
       "      <td>0</td>\n",
       "    </tr>\n",
       "    <tr>\n",
       "      <th>996</th>\n",
       "      <td>গাছের মগডালে দোয়েল পাখির বাসা।</td>\n",
       "      <td>0</td>\n",
       "    </tr>\n",
       "    <tr>\n",
       "      <th>997</th>\n",
       "      <td>কিন্তু বড় আনারস হেসে বলল, \"আমি অনেক বড়। কেউ ...</td>\n",
       "      <td>0</td>\n",
       "    </tr>\n",
       "    <tr>\n",
       "      <th>998</th>\n",
       "      <td>বীর বাঙালিরা তার ডাকে সাড়া দিলেন। ডাকে সাড়া ...</td>\n",
       "      <td>0</td>\n",
       "    </tr>\n",
       "    <tr>\n",
       "      <th>999</th>\n",
       "      <td>এখন ঔষধ আন</td>\n",
       "      <td>0</td>\n",
       "    </tr>\n",
       "  </tbody>\n",
       "</table>\n",
       "<p>1000 rows × 2 columns</p>\n",
       "</div>"
      ],
      "text/plain": [
       "                                                  text  complexity\n",
       "0                    সতত আনন্দ কর; অবিরত প্রার্থনা কর;           1\n",
       "1    অতএব “তোমরা তাহাদের মধ্য হইতে বাহির হইয়া আইস,...           1\n",
       "2    যেন এক্ষণে যথাকালে আপন ধার্ম্মিকতা দেখান, যেন ...           1\n",
       "3    কেননা তিনি এই সাক্ষ্য প্রাপ্ত হইতেছেন, “তুমিই ...           1\n",
       "4    কারণ তিনি মোশিকে বলেন, “আমি যাহাকে দয়া করি, ত...           1\n",
       "..                                                 ...         ...\n",
       "995  তিনদিন হয়ে গেল সাঁকো মেরামত হল না । শোভনরা ...           0\n",
       "996                   গাছের মগডালে দোয়েল পাখির বাসা।           0\n",
       "997  কিন্তু বড় আনারস হেসে বলল, \"আমি অনেক বড়। কেউ ...           0\n",
       "998  বীর বাঙালিরা তার ডাকে সাড়া দিলেন। ডাকে সাড়া ...           0\n",
       "999                                         এখন ঔষধ আন           0\n",
       "\n",
       "[1000 rows x 2 columns]"
      ]
     },
     "execution_count": 20,
     "metadata": {},
     "output_type": "execute_result"
    }
   ],
   "source": [
    "df_test=pd.read_csv('data.csv')\n",
    "df_test"
   ]
  },
  {
   "cell_type": "code",
   "execution_count": 21,
   "id": "7582a833",
   "metadata": {},
   "outputs": [
    {
     "data": {
      "text/plain": [
       "<matplotlib.collections.PathCollection at 0x2ae9b7f0ce80>"
      ]
     },
     "execution_count": 21,
     "metadata": {},
     "output_type": "execute_result"
    },
    {
     "data": {
      "image/png": "[encoded data removed]",
      "text/plain": [
       "<Figure size 432x288 with 1 Axes>"
      ]
     },
     "metadata": {
      "needs_background": "light"
     },
     "output_type": "display_data"
    }
   ],
   "source": [
    "length=[len(i) for i in df_test.text.values]\n",
    "import matplotlib.pyplot as plt\n",
    "plt.scatter(df_test.index,length)"
   ]
  },
  {
   "cell_type": "code",
   "execution_count": 22,
   "id": "ec147cd6",
   "metadata": {},
   "outputs": [
    {
     "name": "stdout",
     "output_type": "stream",
     "text": [
      "32/32 [==============================] - 0s 627us/step\n",
      "Predictions on Test data:\n"
     ]
    },
    {
     "data": {
      "text/plain": [
       "array([[0.9548842 ],\n",
       "       [0.98624015],\n",
       "       [0.9756339 ]], dtype=float32)"
      ]
     },
     "execution_count": 22,
     "metadata": {},
     "output_type": "execute_result"
    }
   ],
   "source": [
    "#test data processing\n",
    "\n",
    "test_x,test_y,_,_=train_val(df_test,0)\n",
    "\n",
    "#prediction using test_data\n",
    "\n",
    "test_pred = model.predict(test_x)\n",
    "\n",
    "print(\"Predictions on Test data:\")\n",
    "test_pred[0:3]"
   ]
  },
  {
   "cell_type": "code",
   "execution_count": 23,
   "id": "f326b6e4",
   "metadata": {},
   "outputs": [
    {
     "data": {
      "image/png": "[encoded data removed]",
      "text/plain": [
       "<Figure size 432x288 with 1 Axes>"
      ]
     },
     "metadata": {
      "needs_background": "light"
     },
     "output_type": "display_data"
    }
   ],
   "source": [
    "#create ROC curve\n",
    "fpr, tpr, thresholds = metrics.roc_curve(test_y, test_pred)\n",
    "auc = metrics.roc_auc_score(test_y, test_pred)\n",
    "\n",
    "plt.plot(fpr,tpr,label=\"AUC=\"+str(auc))\n",
    "plt.ylabel('True Positive Rate')\n",
    "plt.xlabel('False Positive Rate')\n",
    "plt.title(\"ROC curve\")\n",
    "plt.legend(loc=4)\n",
    "plt.show()"
   ]
  },
  {
   "cell_type": "code",
   "execution_count": 24,
   "id": "063bd000",
   "metadata": {},
   "outputs": [
    {
     "name": "stdout",
     "output_type": "stream",
     "text": [
      "Optimal threshold: 0.5\n"
     ]
    }
   ],
   "source": [
    "# calculate optimal threshold from ROC statistics and get classification report\n",
    "optimal_idx = np.argmax(tpr - fpr)\n",
    "optimal_threshold = thresholds[optimal_idx]\n",
    "\n",
    "print(\"Optimal threshold:\",round(optimal_threshold,1))"
   ]
  },
  {
   "cell_type": "code",
   "execution_count": 25,
   "id": "bb905b15",
   "metadata": {},
   "outputs": [
    {
     "name": "stdout",
     "output_type": "stream",
     "text": [
      "32/32 [==============================] - 0s 608us/step\n",
      "Classification Report\n",
      "              precision    recall  f1-score   support\n",
      "\n",
      "         0.0       0.94      0.93      0.94       500\n",
      "         1.0       0.93      0.94      0.94       500\n",
      "\n",
      "    accuracy                           0.94      1000\n",
      "   macro avg       0.94      0.94      0.94      1000\n",
      "weighted avg       0.94      0.94      0.94      1000\n",
      "\n"
     ]
    }
   ],
   "source": [
    "threshold_pred = (model.predict(test_x) > optimal_threshold).astype(int)\n",
    "\n",
    "print(\"Classification Report\")\n",
    "print(classification_report(test_y, threshold_pred))"
   ]
  },
  {
   "cell_type": "markdown",
   "id": "89fe74e9",
   "metadata": {},
   "source": [
    "## Hindi"
   ]
  },
  {
   "cell_type": "code",
   "execution_count": 26,
   "id": "a2516fa8",
   "metadata": {},
   "outputs": [
    {
     "data": {
      "text/html": [
       "<div>\n",
       "<style scoped>\n",
       "    .dataframe tbody tr th:only-of-type {\n",
       "        vertical-align: middle;\n",
       "    }\n",
       "\n",
       "    .dataframe tbody tr th {\n",
       "        vertical-align: top;\n",
       "    }\n",
       "\n",
       "    .dataframe thead th {\n",
       "        text-align: right;\n",
       "    }\n",
       "</style>\n",
       "<table border=\"1\" class=\"dataframe\">\n",
       "  <thead>\n",
       "    <tr style=\"text-align: right;\">\n",
       "      <th></th>\n",
       "      <th>text</th>\n",
       "      <th>complexity</th>\n",
       "    </tr>\n",
       "  </thead>\n",
       "  <tbody>\n",
       "    <tr>\n",
       "      <th>0</th>\n",
       "      <td>ताकि जैसा लिखा है, वैसा ही हो, “जो घमण्ड करे व...</td>\n",
       "      <td>1</td>\n",
       "    </tr>\n",
       "    <tr>\n",
       "      <th>1</th>\n",
       "      <td>परन्तु बात यह है : जो थोड़ा बोता है, वह थोड़ा ...</td>\n",
       "      <td>1</td>\n",
       "    </tr>\n",
       "    <tr>\n",
       "      <th>2</th>\n",
       "      <td>मैं ने अपनी पत्री में तुम्हें लिखा है कि व्यभि...</td>\n",
       "      <td>1</td>\n",
       "    </tr>\n",
       "    <tr>\n",
       "      <th>3</th>\n",
       "      <td>अपने बहुत से जातिवालों से जो मेरी अवस्था के थे...</td>\n",
       "      <td>1</td>\n",
       "    </tr>\n",
       "    <tr>\n",
       "      <th>4</th>\n",
       "      <td>परन्तु जो सन्देह कर के खाता है वह दण्ड के योग्...</td>\n",
       "      <td>1</td>\n",
       "    </tr>\n",
       "    <tr>\n",
       "      <th>...</th>\n",
       "      <td>...</td>\n",
       "      <td>...</td>\n",
       "    </tr>\n",
       "    <tr>\n",
       "      <th>995</th>\n",
       "      <td>यदि वहाँ व्याख्या करने वाला कोई न हो तो बोलने ...</td>\n",
       "      <td>0</td>\n",
       "    </tr>\n",
       "    <tr>\n",
       "      <th>996</th>\n",
       "      <td>मैंने कड़ा परिश्रम करके थकावट से चूर हो कर जीव...</td>\n",
       "      <td>0</td>\n",
       "    </tr>\n",
       "    <tr>\n",
       "      <th>997</th>\n",
       "      <td>क्योंकि सुसमाचार में यह दर्शाया गया है, परमेश्...</td>\n",
       "      <td>0</td>\n",
       "    </tr>\n",
       "    <tr>\n",
       "      <th>998</th>\n",
       "      <td>हे भाईयों, मैं तुम्हें जताना चाहता हूँ कि वह स...</td>\n",
       "      <td>0</td>\n",
       "    </tr>\n",
       "    <tr>\n",
       "      <th>999</th>\n",
       "      <td>हमारे परमपिता परमेश्वर और प्रभु यीशु मसीह की ओ...</td>\n",
       "      <td>0</td>\n",
       "    </tr>\n",
       "  </tbody>\n",
       "</table>\n",
       "<p>1000 rows × 2 columns</p>\n",
       "</div>"
      ],
      "text/plain": [
       "                                                  text  complexity\n",
       "0    ताकि जैसा लिखा है, वैसा ही हो, “जो घमण्ड करे व...           1\n",
       "1    परन्तु बात यह है : जो थोड़ा बोता है, वह थोड़ा ...           1\n",
       "2    मैं ने अपनी पत्री में तुम्हें लिखा है कि व्यभि...           1\n",
       "3    अपने बहुत से जातिवालों से जो मेरी अवस्था के थे...           1\n",
       "4    परन्तु जो सन्देह कर के खाता है वह दण्ड के योग्...           1\n",
       "..                                                 ...         ...\n",
       "995  यदि वहाँ व्याख्या करने वाला कोई न हो तो बोलने ...           0\n",
       "996  मैंने कड़ा परिश्रम करके थकावट से चूर हो कर जीव...           0\n",
       "997  क्योंकि सुसमाचार में यह दर्शाया गया है, परमेश्...           0\n",
       "998  हे भाईयों, मैं तुम्हें जताना चाहता हूँ कि वह स...           0\n",
       "999  हमारे परमपिता परमेश्वर और प्रभु यीशु मसीह की ओ...           0\n",
       "\n",
       "[1000 rows x 2 columns]"
      ]
     },
     "execution_count": 26,
     "metadata": {},
     "output_type": "execute_result"
    }
   ],
   "source": [
    "df_test=pd.read_csv('data_3.csv')\n",
    "df_test"
   ]
  },
  {
   "cell_type": "code",
   "execution_count": 27,
   "id": "c146cfba",
   "metadata": {},
   "outputs": [
    {
     "data": {
      "text/plain": [
       "<matplotlib.collections.PathCollection at 0x2ae9b55d5e50>"
      ]
     },
     "execution_count": 27,
     "metadata": {},
     "output_type": "execute_result"
    },
    {
     "data": {
      "image/png": "[encoded data removed]",
      "text/plain": [
       "<Figure size 432x288 with 1 Axes>"
      ]
     },
     "metadata": {
      "needs_background": "light"
     },
     "output_type": "display_data"
    }
   ],
   "source": [
    "length=[len(i) for i in df_test.text.values]\n",
    "import matplotlib.pyplot as plt\n",
    "plt.scatter(df_test.index,length)"
   ]
  },
  {
   "cell_type": "code",
   "execution_count": 28,
   "id": "767a6e8f",
   "metadata": {},
   "outputs": [
    {
     "name": "stdout",
     "output_type": "stream",
     "text": [
      "32/32 [==============================] - 0s 630us/step\n",
      "Predictions on Test data:\n"
     ]
    },
    {
     "data": {
      "text/plain": [
       "array([[0.9676579],\n",
       "       [0.9701823],\n",
       "       [0.741006 ]], dtype=float32)"
      ]
     },
     "execution_count": 28,
     "metadata": {},
     "output_type": "execute_result"
    }
   ],
   "source": [
    "#test data processing\n",
    "\n",
    "test_x,test_y,_,_=train_val(df_test,0)\n",
    "\n",
    "#prediction using test_data\n",
    "\n",
    "test_pred = model.predict(test_x)\n",
    "\n",
    "print(\"Predictions on Test data:\")\n",
    "test_pred[0:3]"
   ]
  },
  {
   "cell_type": "code",
   "execution_count": 29,
   "id": "2f8b63b0",
   "metadata": {},
   "outputs": [
    {
     "data": {
      "image/png": "[encoded data removed]",
      "text/plain": [
       "<Figure size 432x288 with 1 Axes>"
      ]
     },
     "metadata": {
      "needs_background": "light"
     },
     "output_type": "display_data"
    }
   ],
   "source": [
    "#create ROC curve\n",
    "fpr, tpr, thresholds = metrics.roc_curve(test_y, test_pred)\n",
    "auc = metrics.roc_auc_score(test_y, test_pred)\n",
    "\n",
    "plt.plot(fpr,tpr,label=\"AUC=\"+str(auc))\n",
    "plt.ylabel('True Positive Rate')\n",
    "plt.xlabel('False Positive Rate')\n",
    "plt.title(\"ROC curve\")\n",
    "plt.legend(loc=4)\n",
    "plt.show()"
   ]
  },
  {
   "cell_type": "code",
   "execution_count": 30,
   "id": "f408124c",
   "metadata": {},
   "outputs": [
    {
     "name": "stdout",
     "output_type": "stream",
     "text": [
      "Optimal threshold: 0.8\n"
     ]
    }
   ],
   "source": [
    "# calculate optimal threshold from ROC statistics and get classification report\n",
    "optimal_idx = np.argmax(tpr - fpr)\n",
    "optimal_threshold = thresholds[optimal_idx]\n",
    "\n",
    "print(\"Optimal threshold:\",round(optimal_threshold,1))"
   ]
  },
  {
   "cell_type": "code",
   "execution_count": 31,
   "id": "8528ece0",
   "metadata": {},
   "outputs": [
    {
     "name": "stdout",
     "output_type": "stream",
     "text": [
      "32/32 [==============================] - 0s 603us/step\n",
      "Classification Report\n",
      "              precision    recall  f1-score   support\n",
      "\n",
      "         0.0       0.63      0.78      0.69       500\n",
      "         1.0       0.71      0.53      0.61       500\n",
      "\n",
      "    accuracy                           0.66      1000\n",
      "   macro avg       0.67      0.66      0.65      1000\n",
      "weighted avg       0.67      0.66      0.65      1000\n",
      "\n"
     ]
    }
   ],
   "source": [
    "threshold_pred = (model.predict(test_x) > optimal_threshold).astype(int)\n",
    "\n",
    "print(\"Classification Report\")\n",
    "print(classification_report(test_y, threshold_pred))"
   ]
  },
  {
   "cell_type": "markdown",
   "id": "75f79367",
   "metadata": {},
   "source": [
    "## Urdu and Arabic"
   ]
  },
  {
   "cell_type": "code",
   "execution_count": 32,
   "id": "73aeb89e",
   "metadata": {},
   "outputs": [
    {
     "data": {
      "text/html": [
       "<div>\n",
       "<style scoped>\n",
       "    .dataframe tbody tr th:only-of-type {\n",
       "        vertical-align: middle;\n",
       "    }\n",
       "\n",
       "    .dataframe tbody tr th {\n",
       "        vertical-align: top;\n",
       "    }\n",
       "\n",
       "    .dataframe thead th {\n",
       "        text-align: right;\n",
       "    }\n",
       "</style>\n",
       "<table border=\"1\" class=\"dataframe\">\n",
       "  <thead>\n",
       "    <tr style=\"text-align: right;\">\n",
       "      <th></th>\n",
       "      <th>text</th>\n",
       "      <th>complexity</th>\n",
       "    </tr>\n",
       "  </thead>\n",
       "  <tbody>\n",
       "    <tr>\n",
       "      <th>0</th>\n",
       "      <td>یہ لگاتار مختلف جگہوں پر الاؤ جلا کر رکھتے ہیں</td>\n",
       "      <td>1</td>\n",
       "    </tr>\n",
       "    <tr>\n",
       "      <th>1</th>\n",
       "      <td>بہت سعی کے بعد آج بھی یہ قبیلے دنیا کے لئے ایک...</td>\n",
       "      <td>1</td>\n",
       "    </tr>\n",
       "    <tr>\n",
       "      <th>2</th>\n",
       "      <td>مجھے تو یہ گمان بھی نہ تھا کہ یہ آفت اس طرح ٹو...</td>\n",
       "      <td>1</td>\n",
       "    </tr>\n",
       "    <tr>\n",
       "      <th>3</th>\n",
       "      <td>چونکہ میں ایماندار تھی اور میرے دل میں کوئی کھ...</td>\n",
       "      <td>1</td>\n",
       "    </tr>\n",
       "    <tr>\n",
       "      <th>4</th>\n",
       "      <td>چند ہی دنوں میں انہیں افاقہ محسوس ہوا</td>\n",
       "      <td>1</td>\n",
       "    </tr>\n",
       "    <tr>\n",
       "      <th>...</th>\n",
       "      <td>...</td>\n",
       "      <td>...</td>\n",
       "    </tr>\n",
       "    <tr>\n",
       "      <th>1995</th>\n",
       "      <td>وهذا السِّرُّ هو: حِينَما يؤمِنُ النّاسُ مِن ك...</td>\n",
       "      <td>0</td>\n",
       "    </tr>\n",
       "    <tr>\n",
       "      <th>1996</th>\n",
       "      <td>فلا يَخدَعَنّكُم الّذينَ يُبَرِّرونَ هذِهِ الس...</td>\n",
       "      <td>0</td>\n",
       "    </tr>\n",
       "    <tr>\n",
       "      <th>1997</th>\n",
       "      <td>فاصمُدوا أحِبّائي في إيمانِكُم ولا تَتَزَحزَحو...</td>\n",
       "      <td>0</td>\n",
       "    </tr>\n",
       "    <tr>\n",
       "      <th>1998</th>\n",
       "      <td>إنّ لِلعامِلينَ عِندَ النّاسِ أُجرَةً، وهي حَق...</td>\n",
       "      <td>0</td>\n",
       "    </tr>\n",
       "    <tr>\n",
       "      <th>1999</th>\n",
       "      <td>فلا تُشارِكوهُم في أعمالِهمِ السَّيّئةِ.</td>\n",
       "      <td>0</td>\n",
       "    </tr>\n",
       "  </tbody>\n",
       "</table>\n",
       "<p>2000 rows × 2 columns</p>\n",
       "</div>"
      ],
      "text/plain": [
       "                                                   text  complexity\n",
       "0        یہ لگاتار مختلف جگہوں پر الاؤ جلا کر رکھتے ہیں           1\n",
       "1     بہت سعی کے بعد آج بھی یہ قبیلے دنیا کے لئے ایک...           1\n",
       "2     مجھے تو یہ گمان بھی نہ تھا کہ یہ آفت اس طرح ٹو...           1\n",
       "3     چونکہ میں ایماندار تھی اور میرے دل میں کوئی کھ...           1\n",
       "4                 چند ہی دنوں میں انہیں افاقہ محسوس ہوا           1\n",
       "...                                                 ...         ...\n",
       "1995  وهذا السِّرُّ هو: حِينَما يؤمِنُ النّاسُ مِن ك...           0\n",
       "1996  فلا يَخدَعَنّكُم الّذينَ يُبَرِّرونَ هذِهِ الس...           0\n",
       "1997  فاصمُدوا أحِبّائي في إيمانِكُم ولا تَتَزَحزَحو...           0\n",
       "1998  إنّ لِلعامِلينَ عِندَ النّاسِ أُجرَةً، وهي حَق...           0\n",
       "1999           فلا تُشارِكوهُم في أعمالِهمِ السَّيّئةِ.           0\n",
       "\n",
       "[2000 rows x 2 columns]"
      ]
     },
     "execution_count": 32,
     "metadata": {},
     "output_type": "execute_result"
    }
   ],
   "source": [
    "df_test=pd.read_csv('data_5.csv')\n",
    "df_test"
   ]
  },
  {
   "cell_type": "code",
   "execution_count": 33,
   "id": "fa4f8865",
   "metadata": {},
   "outputs": [
    {
     "name": "stdout",
     "output_type": "stream",
     "text": [
      "63/63 [==============================] - 0s 596us/step\n",
      "Predictions on Test data:\n"
     ]
    },
    {
     "data": {
      "text/plain": [
       "array([[0.47292143],\n",
       "       [0.2793408 ],\n",
       "       [0.5099991 ]], dtype=float32)"
      ]
     },
     "execution_count": 33,
     "metadata": {},
     "output_type": "execute_result"
    }
   ],
   "source": [
    "#test data processing\n",
    "\n",
    "test_x,test_y,_,_=train_val(df_test,0)\n",
    "\n",
    "#prediction using test_data\n",
    "\n",
    "test_pred = model.predict(test_x)\n",
    "\n",
    "print(\"Predictions on Test data:\")\n",
    "test_pred[0:3]"
   ]
  },
  {
   "cell_type": "code",
   "execution_count": 34,
   "id": "a711fa31",
   "metadata": {},
   "outputs": [
    {
     "data": {
      "image/png": "[encoded data removed]",
      "text/plain": [
       "<Figure size 432x288 with 1 Axes>"
      ]
     },
     "metadata": {
      "needs_background": "light"
     },
     "output_type": "display_data"
    }
   ],
   "source": [
    "#create ROC curve\n",
    "fpr, tpr, thresholds = metrics.roc_curve(test_y, test_pred)\n",
    "auc = metrics.roc_auc_score(test_y, test_pred)\n",
    "\n",
    "plt.plot(fpr,tpr,label=\"AUC=\"+str(auc))\n",
    "plt.ylabel('True Positive Rate')\n",
    "plt.xlabel('False Positive Rate')\n",
    "plt.title(\"ROC curve\")\n",
    "plt.legend(loc=4)\n",
    "plt.show()"
   ]
  },
  {
   "cell_type": "code",
   "execution_count": 35,
   "id": "3efdb94a",
   "metadata": {},
   "outputs": [
    {
     "name": "stdout",
     "output_type": "stream",
     "text": [
      "Optimal threshold: 1.0\n"
     ]
    }
   ],
   "source": [
    "# calculate optimal threshold from ROC statistics and get classification report\n",
    "optimal_idx = np.argmax(tpr - fpr)\n",
    "optimal_threshold = thresholds[optimal_idx]\n",
    "\n",
    "print(\"Optimal threshold:\",round(optimal_threshold,1))"
   ]
  },
  {
   "cell_type": "code",
   "execution_count": 36,
   "id": "cb4426d8",
   "metadata": {},
   "outputs": [
    {
     "name": "stdout",
     "output_type": "stream",
     "text": [
      "63/63 [==============================] - 0s 575us/step\n",
      "Classification Report\n",
      "              precision    recall  f1-score   support\n",
      "\n",
      "         0.0       0.54      0.88      0.67      1000\n",
      "         1.0       0.67      0.25      0.36      1000\n",
      "\n",
      "    accuracy                           0.56      2000\n",
      "   macro avg       0.61      0.56      0.52      2000\n",
      "weighted avg       0.61      0.56      0.52      2000\n",
      "\n"
     ]
    }
   ],
   "source": [
    "threshold_pred = (model.predict(test_x) > optimal_threshold).astype(int)\n",
    "\n",
    "print(\"Classification Report\")\n",
    "print(classification_report(test_y, threshold_pred))"
   ]
  },
  {
   "cell_type": "markdown",
   "id": "8297d9fb",
   "metadata": {},
   "source": [
    "## Tamil"
   ]
  },
  {
   "cell_type": "code",
   "execution_count": 37,
   "id": "5a46e0f3",
   "metadata": {},
   "outputs": [
    {
     "data": {
      "text/html": [
       "<div>\n",
       "<style scoped>\n",
       "    .dataframe tbody tr th:only-of-type {\n",
       "        vertical-align: middle;\n",
       "    }\n",
       "\n",
       "    .dataframe tbody tr th {\n",
       "        vertical-align: top;\n",
       "    }\n",
       "\n",
       "    .dataframe thead th {\n",
       "        text-align: right;\n",
       "    }\n",
       "</style>\n",
       "<table border=\"1\" class=\"dataframe\">\n",
       "  <thead>\n",
       "    <tr style=\"text-align: right;\">\n",
       "      <th></th>\n",
       "      <th>text</th>\n",
       "      <th>complexity</th>\n",
       "    </tr>\n",
       "  </thead>\n",
       "  <tbody>\n",
       "    <tr>\n",
       "      <th>0</th>\n",
       "      <td>ஏனெனில், இந்தக் கூடாரத்திலே நாம் தவித்து, நம்ம...</td>\n",
       "      <td>1</td>\n",
       "    </tr>\n",
       "    <tr>\n",
       "      <th>1</th>\n",
       "      <td>இப்படிப்பட்ட வாக்குத்தத்தங்கள் நமக்கு உண்டாயிர...</td>\n",
       "      <td>1</td>\n",
       "    </tr>\n",
       "    <tr>\n",
       "      <th>2</th>\n",
       "      <td>கிறிஸ்து இயேசுவினுடைய இரத்தத்தைப்பற்றும் விசுவ...</td>\n",
       "      <td>1</td>\n",
       "    </tr>\n",
       "    <tr>\n",
       "      <th>3</th>\n",
       "      <td>இன்று அவருடைய சத்தத்தைக் கேட்பீர்களாகில், கோபம...</td>\n",
       "      <td>1</td>\n",
       "    </tr>\n",
       "    <tr>\n",
       "      <th>4</th>\n",
       "      <td>அவர் மோசேயை நோக்கி: எவன்மேல் இரக்கமாயிருக்கச் ...</td>\n",
       "      <td>1</td>\n",
       "    </tr>\n",
       "    <tr>\n",
       "      <th>...</th>\n",
       "      <td>...</td>\n",
       "      <td>...</td>\n",
       "    </tr>\n",
       "    <tr>\n",
       "      <th>219</th>\n",
       "      <td>சுருள் முடி கொண்ட ஆண் சமோசா சாப்பிடுகிறான். ...</td>\n",
       "      <td>0</td>\n",
       "    </tr>\n",
       "    <tr>\n",
       "      <th>220</th>\n",
       "      <td>ஒரு ஆணும் குழந்தையும் மரத்தடியில் பாயில் கிடக்...</td>\n",
       "      <td>0</td>\n",
       "    </tr>\n",
       "    <tr>\n",
       "      <th>221</th>\n",
       "      <td>பட விளக்கம்: ஒன்றன்பின் ஒன்றாக இரண்டு யானைகள் ...</td>\n",
       "      <td>0</td>\n",
       "    </tr>\n",
       "    <tr>\n",
       "      <th>222</th>\n",
       "      <td>ராதா மண்ணில் கால் தடையங்களைக் கண்டு பயந்தாள். ...</td>\n",
       "      <td>0</td>\n",
       "    </tr>\n",
       "    <tr>\n",
       "      <th>223</th>\n",
       "      <td>பிரச்சினையை விளக்கிய பூனைகள்,\"நீயே நடுவராக இரு...</td>\n",
       "      <td>0</td>\n",
       "    </tr>\n",
       "  </tbody>\n",
       "</table>\n",
       "<p>224 rows × 2 columns</p>\n",
       "</div>"
      ],
      "text/plain": [
       "                                                  text  complexity\n",
       "0    ஏனெனில், இந்தக் கூடாரத்திலே நாம் தவித்து, நம்ம...           1\n",
       "1    இப்படிப்பட்ட வாக்குத்தத்தங்கள் நமக்கு உண்டாயிர...           1\n",
       "2    கிறிஸ்து இயேசுவினுடைய இரத்தத்தைப்பற்றும் விசுவ...           1\n",
       "3    இன்று அவருடைய சத்தத்தைக் கேட்பீர்களாகில், கோபம...           1\n",
       "4    அவர் மோசேயை நோக்கி: எவன்மேல் இரக்கமாயிருக்கச் ...           1\n",
       "..                                                 ...         ...\n",
       "219  சுருள் முடி கொண்ட ஆண் சமோசா சாப்பிடுகிறான். ...           0\n",
       "220  ஒரு ஆணும் குழந்தையும் மரத்தடியில் பாயில் கிடக்...           0\n",
       "221  பட விளக்கம்: ஒன்றன்பின் ஒன்றாக இரண்டு யானைகள் ...           0\n",
       "222  ராதா மண்ணில் கால் தடையங்களைக் கண்டு பயந்தாள். ...           0\n",
       "223  பிரச்சினையை விளக்கிய பூனைகள்,\"நீயே நடுவராக இரு...           0\n",
       "\n",
       "[224 rows x 2 columns]"
      ]
     },
     "execution_count": 37,
     "metadata": {},
     "output_type": "execute_result"
    }
   ],
   "source": [
    "df_test=pd.read_csv('data_6.csv')\n",
    "df_test"
   ]
  },
  {
   "cell_type": "code",
   "execution_count": 38,
   "id": "c2b843cf",
   "metadata": {},
   "outputs": [
    {
     "data": {
      "text/plain": [
       "<matplotlib.collections.PathCollection at 0x2ae9b581f370>"
      ]
     },
     "execution_count": 38,
     "metadata": {},
     "output_type": "execute_result"
    },
    {
     "data": {
      "image/png": "[encoded data removed]",
      "text/plain": [
       "<Figure size 432x288 with 1 Axes>"
      ]
     },
     "metadata": {
      "needs_background": "light"
     },
     "output_type": "display_data"
    }
   ],
   "source": [
    "length=[len(i) for i in df_test.text.values]\n",
    "import matplotlib.pyplot as plt\n",
    "plt.scatter(df_test.index,length)"
   ]
  },
  {
   "cell_type": "code",
   "execution_count": 39,
   "id": "a9ea6a7d",
   "metadata": {},
   "outputs": [
    {
     "name": "stdout",
     "output_type": "stream",
     "text": [
      "7/7 [==============================] - 0s 803us/step\n",
      "Predictions on Test data:\n"
     ]
    },
    {
     "data": {
      "text/plain": [
       "array([[0.9767687 ],\n",
       "       [0.96903515],\n",
       "       [0.8055995 ]], dtype=float32)"
      ]
     },
     "execution_count": 39,
     "metadata": {},
     "output_type": "execute_result"
    }
   ],
   "source": [
    "#test data processing\n",
    "\n",
    "test_x,test_y,_,_=train_val(df_test,0)\n",
    "\n",
    "#prediction using test_data\n",
    "\n",
    "test_pred = model.predict(test_x)\n",
    "\n",
    "print(\"Predictions on Test data:\")\n",
    "test_pred[0:3]"
   ]
  },
  {
   "cell_type": "code",
   "execution_count": 40,
   "id": "27a39ed4",
   "metadata": {},
   "outputs": [
    {
     "data": {
      "image/png": "[encoded data removed]",
      "text/plain": [
       "<Figure size 432x288 with 1 Axes>"
      ]
     },
     "metadata": {
      "needs_background": "light"
     },
     "output_type": "display_data"
    }
   ],
   "source": [
    "#create ROC curve\n",
    "fpr, tpr, thresholds = metrics.roc_curve(test_y, test_pred)\n",
    "auc = metrics.roc_auc_score(test_y, test_pred)\n",
    "\n",
    "plt.plot(fpr,tpr,label=\"AUC=\"+str(auc))\n",
    "plt.ylabel('True Positive Rate')\n",
    "plt.xlabel('False Positive Rate')\n",
    "plt.title(\"ROC curve\")\n",
    "plt.legend(loc=4)\n",
    "plt.show()"
   ]
  },
  {
   "cell_type": "code",
   "execution_count": 41,
   "id": "17420e21",
   "metadata": {},
   "outputs": [
    {
     "name": "stdout",
     "output_type": "stream",
     "text": [
      "Optimal threshold: 0.5\n"
     ]
    }
   ],
   "source": [
    "# calculate optimal threshold from ROC statistics and get classification report\n",
    "optimal_idx = np.argmax(tpr - fpr)\n",
    "optimal_threshold = thresholds[optimal_idx]\n",
    "\n",
    "print(\"Optimal threshold:\",round(optimal_threshold,1))"
   ]
  },
  {
   "cell_type": "code",
   "execution_count": 42,
   "id": "b0453e7e",
   "metadata": {},
   "outputs": [
    {
     "name": "stdout",
     "output_type": "stream",
     "text": [
      "7/7 [==============================] - 0s 798us/step\n",
      "Classification Report\n",
      "              precision    recall  f1-score   support\n",
      "\n",
      "         0.0       0.90      0.93      0.92       112\n",
      "         1.0       0.93      0.90      0.91       112\n",
      "\n",
      "    accuracy                           0.92       224\n",
      "   macro avg       0.92      0.92      0.92       224\n",
      "weighted avg       0.92      0.92      0.92       224\n",
      "\n"
     ]
    }
   ],
   "source": [
    "threshold_pred = (model.predict(test_x) > optimal_threshold).astype(int)\n",
    "\n",
    "print(\"Classification Report\")\n",
    "print(classification_report(test_y, threshold_pred))"
   ]
  },
  {
   "cell_type": "markdown",
   "id": "9800c0e6",
   "metadata": {},
   "source": [
    "## Japanese"
   ]
  },
  {
   "cell_type": "code",
   "execution_count": 44,
   "id": "98aee62b",
   "metadata": {},
   "outputs": [
    {
     "data": {
      "text/html": [
       "<div>\n",
       "<style scoped>\n",
       "    .dataframe tbody tr th:only-of-type {\n",
       "        vertical-align: middle;\n",
       "    }\n",
       "\n",
       "    .dataframe tbody tr th {\n",
       "        vertical-align: top;\n",
       "    }\n",
       "\n",
       "    .dataframe thead th {\n",
       "        text-align: right;\n",
       "    }\n",
       "</style>\n",
       "<table border=\"1\" class=\"dataframe\">\n",
       "  <thead>\n",
       "    <tr style=\"text-align: right;\">\n",
       "      <th></th>\n",
       "      <th>text</th>\n",
       "      <th>complexity</th>\n",
       "    </tr>\n",
       "  </thead>\n",
       "  <tbody>\n",
       "    <tr>\n",
       "      <th>0</th>\n",
       "      <td>お金を貸していただけませんか。</td>\n",
       "      <td>1</td>\n",
       "    </tr>\n",
       "    <tr>\n",
       "      <th>1</th>\n",
       "      <td>京都には一度行ったことがある。</td>\n",
       "      <td>1</td>\n",
       "    </tr>\n",
       "    <tr>\n",
       "      <th>2</th>\n",
       "      <td>手伝ってくれてどうもありがとう。</td>\n",
       "      <td>1</td>\n",
       "    </tr>\n",
       "    <tr>\n",
       "      <th>3</th>\n",
       "      <td>私は彼女に９時までに帰宅するように言った。</td>\n",
       "      <td>1</td>\n",
       "    </tr>\n",
       "    <tr>\n",
       "      <th>4</th>\n",
       "      <td>彼は昨日東京からやってきました。</td>\n",
       "      <td>1</td>\n",
       "    </tr>\n",
       "    <tr>\n",
       "      <th>...</th>\n",
       "      <td>...</td>\n",
       "      <td>...</td>\n",
       "    </tr>\n",
       "    <tr>\n",
       "      <th>995</th>\n",
       "      <td>誰も火に近づかないようにしろ。</td>\n",
       "      <td>0</td>\n",
       "    </tr>\n",
       "    <tr>\n",
       "      <th>996</th>\n",
       "      <td>彼の息子は８歳だ。</td>\n",
       "      <td>0</td>\n",
       "    </tr>\n",
       "    <tr>\n",
       "      <th>997</th>\n",
       "      <td>私は十分の間待ちました。</td>\n",
       "      <td>0</td>\n",
       "    </tr>\n",
       "    <tr>\n",
       "      <th>998</th>\n",
       "      <td>春には多くの美しい花が開く。</td>\n",
       "      <td>0</td>\n",
       "    </tr>\n",
       "    <tr>\n",
       "      <th>999</th>\n",
       "      <td>マイクはこの前の夏京都へ行った。</td>\n",
       "      <td>0</td>\n",
       "    </tr>\n",
       "  </tbody>\n",
       "</table>\n",
       "<p>1000 rows × 2 columns</p>\n",
       "</div>"
      ],
      "text/plain": [
       "                      text  complexity\n",
       "0          お金を貸していただけませんか。           1\n",
       "1          京都には一度行ったことがある。           1\n",
       "2         手伝ってくれてどうもありがとう。           1\n",
       "3    私は彼女に９時までに帰宅するように言った。           1\n",
       "4         彼は昨日東京からやってきました。           1\n",
       "..                     ...         ...\n",
       "995        誰も火に近づかないようにしろ。           0\n",
       "996              彼の息子は８歳だ。           0\n",
       "997           私は十分の間待ちました。           0\n",
       "998         春には多くの美しい花が開く。           0\n",
       "999       マイクはこの前の夏京都へ行った。           0\n",
       "\n",
       "[1000 rows x 2 columns]"
      ]
     },
     "execution_count": 44,
     "metadata": {},
     "output_type": "execute_result"
    }
   ],
   "source": [
    "df_test=pd.read_csv('data_7.csv')\n",
    "df_test"
   ]
  },
  {
   "cell_type": "code",
   "execution_count": 45,
   "id": "fc2c0658",
   "metadata": {},
   "outputs": [
    {
     "name": "stdout",
     "output_type": "stream",
     "text": [
      "32/32 [==============================] - 0s 604us/step\n",
      "Predictions on Test data:\n"
     ]
    },
    {
     "data": {
      "text/plain": [
       "array([[0.3873532 ],\n",
       "       [0.06494265],\n",
       "       [0.12786222]], dtype=float32)"
      ]
     },
     "execution_count": 45,
     "metadata": {},
     "output_type": "execute_result"
    }
   ],
   "source": [
    "#test data processing\n",
    "\n",
    "test_x,test_y,_,_=train_val(df_test,0)\n",
    "\n",
    "#prediction using test_data\n",
    "\n",
    "test_pred = model.predict(test_x)\n",
    "\n",
    "print(\"Predictions on Test data:\")\n",
    "test_pred[0:3]"
   ]
  },
  {
   "cell_type": "code",
   "execution_count": 46,
   "id": "3f84b93e",
   "metadata": {},
   "outputs": [
    {
     "data": {
      "image/png": "[encoded data removed]",
      "text/plain": [
       "<Figure size 432x288 with 1 Axes>"
      ]
     },
     "metadata": {
      "needs_background": "light"
     },
     "output_type": "display_data"
    }
   ],
   "source": [
    "#create ROC curve\n",
    "fpr, tpr, thresholds = metrics.roc_curve(test_y, test_pred)\n",
    "auc = metrics.roc_auc_score(test_y, test_pred)\n",
    "\n",
    "plt.plot(fpr,tpr,label=\"AUC=\"+str(auc))\n",
    "plt.ylabel('True Positive Rate')\n",
    "plt.xlabel('False Positive Rate')\n",
    "plt.title(\"ROC curve\")\n",
    "plt.legend(loc=4)\n",
    "plt.show()"
   ]
  },
  {
   "cell_type": "code",
   "execution_count": 47,
   "id": "8ee6cc8e",
   "metadata": {},
   "outputs": [
    {
     "name": "stdout",
     "output_type": "stream",
     "text": [
      "Optimal threshold: 0.4\n"
     ]
    }
   ],
   "source": [
    "# calculate optimal threshold from ROC statistics and get classification report\n",
    "optimal_idx = np.argmax(tpr - fpr)\n",
    "optimal_threshold = thresholds[optimal_idx]\n",
    "\n",
    "print(\"Optimal threshold:\",round(optimal_threshold,1))"
   ]
  },
  {
   "cell_type": "code",
   "execution_count": 48,
   "id": "420823e0",
   "metadata": {},
   "outputs": [
    {
     "name": "stdout",
     "output_type": "stream",
     "text": [
      "32/32 [==============================] - 0s 621us/step\n",
      "Classification Report\n",
      "              precision    recall  f1-score   support\n",
      "\n",
      "         0.0       0.51      0.74      0.60       500\n",
      "         1.0       0.52      0.29      0.37       500\n",
      "\n",
      "    accuracy                           0.51      1000\n",
      "   macro avg       0.51      0.51      0.48      1000\n",
      "weighted avg       0.51      0.51      0.48      1000\n",
      "\n"
     ]
    }
   ],
   "source": [
    "threshold_pred = (model.predict(test_x) > optimal_threshold).astype(int)\n",
    "\n",
    "print(\"Classification Report\")\n",
    "print(classification_report(test_y, threshold_pred))"
   ]
  },
  {
   "cell_type": "markdown",
   "id": "1f3486a5",
   "metadata": {},
   "source": [
    "## Mandarin"
   ]
  },
  {
   "cell_type": "code",
   "execution_count": 49,
   "id": "4bc18c10",
   "metadata": {},
   "outputs": [
    {
     "data": {
      "text/html": [
       "<div>\n",
       "<style scoped>\n",
       "    .dataframe tbody tr th:only-of-type {\n",
       "        vertical-align: middle;\n",
       "    }\n",
       "\n",
       "    .dataframe tbody tr th {\n",
       "        vertical-align: top;\n",
       "    }\n",
       "\n",
       "    .dataframe thead th {\n",
       "        text-align: right;\n",
       "    }\n",
       "</style>\n",
       "<table border=\"1\" class=\"dataframe\">\n",
       "  <thead>\n",
       "    <tr style=\"text-align: right;\">\n",
       "      <th></th>\n",
       "      <th>text</th>\n",
       "      <th>complexity</th>\n",
       "    </tr>\n",
       "  </thead>\n",
       "  <tbody>\n",
       "    <tr>\n",
       "      <th>0</th>\n",
       "      <td>我在你們那裏、又輭弱、又懼怕、又甚戰兢。</td>\n",
       "      <td>1</td>\n",
       "    </tr>\n",
       "    <tr>\n",
       "      <th>1</th>\n",
       "      <td>那賜種給撒種的、賜糧給人喫的、必多多加給你們種地的種子、又增添你們仁義的果子．</td>\n",
       "      <td>1</td>\n",
       "    </tr>\n",
       "    <tr>\n",
       "      <th>2</th>\n",
       "      <td>因爲審判教外的人與我何干．教內的人豈不是你們審判的麽．</td>\n",
       "      <td>1</td>\n",
       "    </tr>\n",
       "    <tr>\n",
       "      <th>3</th>\n",
       "      <td>因着信、連撒拉自己、雖然過了生育的歲數、還能懷孕．因他以爲那應許他的是可信的．</td>\n",
       "      <td>1</td>\n",
       "    </tr>\n",
       "    <tr>\n",
       "      <th>4</th>\n",
       "      <td>我們各人務要呌鄰舍喜悅、使他得益處、建立德行。</td>\n",
       "      <td>1</td>\n",
       "    </tr>\n",
       "    <tr>\n",
       "      <th>...</th>\n",
       "      <td>...</td>\n",
       "      <td>...</td>\n",
       "    </tr>\n",
       "    <tr>\n",
       "      <th>995</th>\n",
       "      <td>如果全身只有一个肢体，还会是身体吗？</td>\n",
       "      <td>0</td>\n",
       "    </tr>\n",
       "    <tr>\n",
       "      <th>996</th>\n",
       "      <td>主耶稣的父——永受称颂的上帝知道我不撒谎。</td>\n",
       "      <td>0</td>\n",
       "    </tr>\n",
       "    <tr>\n",
       "      <th>997</th>\n",
       "      <td>有关上帝的事情，可以让人类知道的都已经显而易见，因为上帝已经向人类显明了。</td>\n",
       "      <td>0</td>\n",
       "    </tr>\n",
       "    <tr>\n",
       "      <th>998</th>\n",
       "      <td>弟兄姊妹，你们的信心使我们在万般困苦和患难中得到了激励。</td>\n",
       "      <td>0</td>\n",
       "    </tr>\n",
       "    <tr>\n",
       "      <th>999</th>\n",
       "      <td>耶稣照麦基洗德的模式成了永远的大祭司，祂替我们先进入了圣幕内。</td>\n",
       "      <td>0</td>\n",
       "    </tr>\n",
       "  </tbody>\n",
       "</table>\n",
       "<p>1000 rows × 2 columns</p>\n",
       "</div>"
      ],
      "text/plain": [
       "                                        text  complexity\n",
       "0                       我在你們那裏、又輭弱、又懼怕、又甚戰兢。           1\n",
       "1    那賜種給撒種的、賜糧給人喫的、必多多加給你們種地的種子、又增添你們仁義的果子．           1\n",
       "2                因爲審判教外的人與我何干．教內的人豈不是你們審判的麽．           1\n",
       "3    因着信、連撒拉自己、雖然過了生育的歲數、還能懷孕．因他以爲那應許他的是可信的．           1\n",
       "4                    我們各人務要呌鄰舍喜悅、使他得益處、建立德行。           1\n",
       "..                                       ...         ...\n",
       "995                       如果全身只有一个肢体，还会是身体吗？           0\n",
       "996                    主耶稣的父——永受称颂的上帝知道我不撒谎。           0\n",
       "997    有关上帝的事情，可以让人类知道的都已经显而易见，因为上帝已经向人类显明了。           0\n",
       "998             弟兄姊妹，你们的信心使我们在万般困苦和患难中得到了激励。           0\n",
       "999          耶稣照麦基洗德的模式成了永远的大祭司，祂替我们先进入了圣幕内。           0\n",
       "\n",
       "[1000 rows x 2 columns]"
      ]
     },
     "execution_count": 49,
     "metadata": {},
     "output_type": "execute_result"
    }
   ],
   "source": [
    "df_test=pd.read_csv('data_8.csv')\n",
    "df_test"
   ]
  },
  {
   "cell_type": "code",
   "execution_count": 50,
   "id": "9c2aaa87",
   "metadata": {},
   "outputs": [
    {
     "name": "stdout",
     "output_type": "stream",
     "text": [
      "32/32 [==============================] - 0s 590us/step\n",
      "Predictions on Test data:\n"
     ]
    },
    {
     "data": {
      "text/plain": [
       "array([[0.8810004 ],\n",
       "       [0.98891956],\n",
       "       [0.9976101 ]], dtype=float32)"
      ]
     },
     "execution_count": 50,
     "metadata": {},
     "output_type": "execute_result"
    }
   ],
   "source": [
    "#test data processing\n",
    "\n",
    "test_x,test_y,_,_=train_val(df_test,0)\n",
    "\n",
    "#prediction using test_data\n",
    "\n",
    "test_pred = model.predict(test_x)\n",
    "\n",
    "print(\"Predictions on Test data:\")\n",
    "test_pred[0:3]"
   ]
  },
  {
   "cell_type": "code",
   "execution_count": 51,
   "id": "92f87723",
   "metadata": {},
   "outputs": [
    {
     "data": {
      "image/png": "[encoded data removed]",
      "text/plain": [
       "<Figure size 432x288 with 1 Axes>"
      ]
     },
     "metadata": {
      "needs_background": "light"
     },
     "output_type": "display_data"
    }
   ],
   "source": [
    "#create ROC curve\n",
    "fpr, tpr, thresholds = metrics.roc_curve(test_y, test_pred)\n",
    "auc = metrics.roc_auc_score(test_y, test_pred)\n",
    "\n",
    "plt.plot(fpr,tpr,label=\"AUC=\"+str(auc))\n",
    "plt.ylabel('True Positive Rate')\n",
    "plt.xlabel('False Positive Rate')\n",
    "plt.title(\"ROC curve\")\n",
    "plt.legend(loc=4)\n",
    "plt.show()"
   ]
  },
  {
   "cell_type": "code",
   "execution_count": 52,
   "id": "bc115773",
   "metadata": {},
   "outputs": [
    {
     "name": "stdout",
     "output_type": "stream",
     "text": [
      "Optimal threshold: 1.0\n"
     ]
    }
   ],
   "source": [
    "# calculate optimal threshold from ROC statistics and get classification report\n",
    "optimal_idx = np.argmax(tpr - fpr)\n",
    "optimal_threshold = thresholds[optimal_idx]\n",
    "\n",
    "print(\"Optimal threshold:\",round(optimal_threshold,1))"
   ]
  },
  {
   "cell_type": "code",
   "execution_count": 53,
   "id": "26c14a62",
   "metadata": {},
   "outputs": [
    {
     "name": "stdout",
     "output_type": "stream",
     "text": [
      "32/32 [==============================] - 0s 604us/step\n",
      "Classification Report\n",
      "              precision    recall  f1-score   support\n",
      "\n",
      "         0.0       0.58      0.64      0.61       500\n",
      "         1.0       0.60      0.54      0.57       500\n",
      "\n",
      "    accuracy                           0.59      1000\n",
      "   macro avg       0.59      0.59      0.59      1000\n",
      "weighted avg       0.59      0.59      0.59      1000\n",
      "\n"
     ]
    }
   ],
   "source": [
    "threshold_pred = (model.predict(test_x) > optimal_threshold).astype(int)\n",
    "\n",
    "print(\"Classification Report\")\n",
    "print(classification_report(test_y, threshold_pred))"
   ]
  },
  {
   "cell_type": "markdown",
   "id": "16f780bc",
   "metadata": {},
   "source": [
    "## Korean"
   ]
  },
  {
   "cell_type": "code",
   "execution_count": 54,
   "id": "5e8a9ffe",
   "metadata": {},
   "outputs": [],
   "source": [
    "df_test=pd.read_csv('data_9.csv')"
   ]
  },
  {
   "cell_type": "code",
   "execution_count": 55,
   "id": "6075e0b3",
   "metadata": {},
   "outputs": [
    {
     "data": {
      "text/plain": [
       "<matplotlib.collections.PathCollection at 0x2ae9b5b4a3d0>"
      ]
     },
     "execution_count": 55,
     "metadata": {},
     "output_type": "execute_result"
    },
    {
     "data": {
      "image/png": "[encoded data removed]",
      "text/plain": [
       "<Figure size 432x288 with 1 Axes>"
      ]
     },
     "metadata": {
      "needs_background": "light"
     },
     "output_type": "display_data"
    }
   ],
   "source": [
    "length=[len(i) for i in df_test.text.values]\n",
    "import matplotlib.pyplot as plt\n",
    "plt.scatter(df_test.index,length)"
   ]
  },
  {
   "cell_type": "code",
   "execution_count": 56,
   "id": "d36a780b",
   "metadata": {},
   "outputs": [
    {
     "name": "stdout",
     "output_type": "stream",
     "text": [
      "32/32 [==============================] - 0s 594us/step\n",
      "Predictions on Test data:\n"
     ]
    },
    {
     "data": {
      "text/plain": [
       "array([[0.93488234],\n",
       "       [0.98264587],\n",
       "       [0.9934713 ]], dtype=float32)"
      ]
     },
     "execution_count": 56,
     "metadata": {},
     "output_type": "execute_result"
    }
   ],
   "source": [
    "#test data processing\n",
    "\n",
    "test_x,test_y,_,_=train_val(df_test,0)\n",
    "\n",
    "#prediction using test_data\n",
    "\n",
    "test_pred = model.predict(test_x)\n",
    "\n",
    "print(\"Predictions on Test data:\")\n",
    "test_pred[0:3]"
   ]
  },
  {
   "cell_type": "code",
   "execution_count": 57,
   "id": "81242e93",
   "metadata": {},
   "outputs": [
    {
     "data": {
      "image/png": "[encoded data removed]",
      "text/plain": [
       "<Figure size 432x288 with 1 Axes>"
      ]
     },
     "metadata": {
      "needs_background": "light"
     },
     "output_type": "display_data"
    }
   ],
   "source": [
    "#create ROC curve\n",
    "fpr, tpr, thresholds = metrics.roc_curve(test_y, test_pred)\n",
    "auc = metrics.roc_auc_score(test_y, test_pred)\n",
    "\n",
    "plt.plot(fpr,tpr,label=\"AUC=\"+str(auc))\n",
    "plt.ylabel('True Positive Rate')\n",
    "plt.xlabel('False Positive Rate')\n",
    "plt.title(\"ROC curve\")\n",
    "plt.legend(loc=4)\n",
    "plt.show()"
   ]
  },
  {
   "cell_type": "code",
   "execution_count": 58,
   "id": "ef8269c1",
   "metadata": {},
   "outputs": [
    {
     "name": "stdout",
     "output_type": "stream",
     "text": [
      "Optimal threshold: 0.4\n"
     ]
    }
   ],
   "source": [
    "# calculate optimal threshold from ROC statistics and get classification report\n",
    "optimal_idx = np.argmax(tpr - fpr)\n",
    "optimal_threshold = thresholds[optimal_idx]\n",
    "\n",
    "print(\"Optimal threshold:\",round(optimal_threshold,1))"
   ]
  },
  {
   "cell_type": "code",
   "execution_count": 59,
   "id": "8cbaa82e",
   "metadata": {},
   "outputs": [
    {
     "name": "stdout",
     "output_type": "stream",
     "text": [
      "32/32 [==============================] - 0s 584us/step\n",
      "Classification Report\n",
      "              precision    recall  f1-score   support\n",
      "\n",
      "         0.0       0.96      0.95      0.95       500\n",
      "         1.0       0.95      0.96      0.96       500\n",
      "\n",
      "    accuracy                           0.95      1000\n",
      "   macro avg       0.96      0.95      0.95      1000\n",
      "weighted avg       0.96      0.95      0.95      1000\n",
      "\n"
     ]
    }
   ],
   "source": [
    "threshold_pred = (model.predict(test_x) > optimal_threshold).astype(int)\n",
    "\n",
    "print(\"Classification Report\")\n",
    "print(classification_report(test_y, threshold_pred))"
   ]
  },
  {
   "cell_type": "code",
   "execution_count": null,
   "id": "6a576e1b",
   "metadata": {},
   "outputs": [],
   "source": []
  }
 ],
 "metadata": {
  "kernelspec": {
   "display_name": "Python 3.9 (Default)",
   "language": "python",
   "name": "python3"
  },
  "language_info": {
   "codemirror_mode": {
    "name": "ipython",
    "version": 3
   },
   "file_extension": ".py",
   "mimetype": "text/x-python",
   "name": "python",
   "nbconvert_exporter": "python",
   "pygments_lexer": "ipython3",
   "version": "3.9.7"
  }
 },
 "nbformat": 4,
 "nbformat_minor": 5
}
